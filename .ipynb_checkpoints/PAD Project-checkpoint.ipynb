{
 "cells": [
  {
   "cell_type": "markdown",
   "metadata": {},
   "source": [
    "# PROGRAMMING FOR DATA ANALYSIS PROJECT \n",
    "\n",
    "#Table of contents: \n",
    " \n",
    "    1. Purpose of this assignment\n",
    "    \n",
    "    2. Explain overall use of package\n",
    "\n",
    "    3. Explain use of the 'Simple random data' and 'Permutations' functions\n",
    "\n",
    "    4. Explain use and purpose of at least 5 'Distribution' functions\n",
    "    \n",
    "    5. Explain the use of 'Seeds' in generating  pseudorandom numbers\n",
    "    \n",
    "    #References used ( I will add references here unless I find a better way to add these in a cleaner way)\n",
    "    \n",
    "    -(How to format Markdown cells in Jupyter notebooks): https://stackoverflow.com/questions/19746350/how-to-change-color-in-markdown-cells-ipython-jupyter-notebook\n",
    "    \n",
    "    \n"
   ]
  },
  {
   "cell_type": "markdown",
   "metadata": {},
   "source": [
    "<font color='Blue'># 1. Purpose of this assigment:</font>\n",
    "\n",
    "With this project my intention is to create a guide to explain some concepts which will help to understand what is the overall purpose \n",
    "of the numpy.random package in Python and how it can be used more effectively. \n",
    "\n",
    "I will start explaining the package itself and then move on to the next points . In order to explain this the best way possible I will provide with graphics and examples. \n",
    "\n",
    " \n",
    "    "
   ]
  },
  {
   "cell_type": "markdown",
   "metadata": {},
   "source": [
    "<font color='Blue'># 2.Explain overall use of numpy.random package :</font>\n",
    "\n",
    "\n"
   ]
  },
  {
   "cell_type": "code",
   "execution_count": null,
   "metadata": {},
   "outputs": [],
   "source": []
  }
 ],
 "metadata": {
  "kernelspec": {
   "display_name": "Python 3",
   "language": "python",
   "name": "python3"
  },
  "language_info": {
   "codemirror_mode": {
    "name": "ipython",
    "version": 3
   },
   "file_extension": ".py",
   "mimetype": "text/x-python",
   "name": "python",
   "nbconvert_exporter": "python",
   "pygments_lexer": "ipython3",
   "version": "3.8.3"
  }
 },
 "nbformat": 4,
 "nbformat_minor": 4
}
