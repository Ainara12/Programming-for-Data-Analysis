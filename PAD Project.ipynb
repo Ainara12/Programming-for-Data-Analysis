{
 "cells": [
  {
   "cell_type": "markdown",
   "metadata": {},
   "source": [
    "# PROGRAMMING FOR DATA ANALYSIS PROJECT \n",
    "\n",
    "#Table of contents: \n",
    " \n",
    "    1. Purpose of this assignment\n",
    "    \n",
    "    2. Explain overall use of package\n",
    "\n",
    "    3. Explain use of the 'Simple random data' and 'Permutations' functions\n",
    "\n",
    "    4. Explain use and purpose of at least 5 'Distribution' functions\n",
    "    \n",
    "    5. Explain the use of 'Seeds' in generating  pseudorandom numbers\n",
    "    \n",
    "    #References used ( I will add references here unless I find a better way to add these in a cleaner way)\n",
    "    \n",
    "    -(How to format Markdown cells in Jupyter notebooks): https://stackoverflow.com/questions/19746350/how-to-change-color-in-markdown-cells-ipython-jupyter-notebook\n",
    "    \n",
    "    -Matoplotlib documentation:https://matplotlib.org/users/index.html\n",
    "    -Numpy.random documentation: numpy.org/doc/stable/reference/random/index.html\n",
    "    -The 10 numpy functions you should know: https://towardsdatascience.com/10-numpy-functions-you-should-know-1dc4863764c5\n",
    "    \n",
    "    -simple random data and permutations functions: https://docs.scipy.org/doc/numpy-1.15.0/reference/routines.random.html\n",
    "    -Distribution examples:\n",
    "    \n",
    "        -Chi-square statistic: https://www.statisticshowto.com/probability-and-statistics/chi-square/\n",
    "            -Chi-square distribution:https://docs.scipy.org/doc/numpy1.15.0/reference/generated/numpy.random.chisquare.html#numpy.random.chisquare\n",
    "            http://www.python-ds.com/python-chi-square-test\n",
    "            \n",
    "        -Exponential distribution: https://numpy.org/doc/stable/reference/random/generated/numpy.random.exponential.html?highlight=numpy%20random%20exponential#numpy.random.exponential\n",
    "        \n",
    "        -Exponential distribution definition: https://www.probabilitycourse.com/chapter4/4_2_2_exponential.php\n",
    "\n",
    "        -Numpy.random.f documentation: https://numpy.org/doc/stable/reference/random/generated/numpy.random.f.html \n",
    "        -F distribution: https://stattrek.com/probability-distributions/f-distribution.aspx\n",
    "        \n",
    "        -Gamma distribution documentation: https://numpy.org/doc/stable/reference/random/generated/numpy.random.gamma.html\n",
    "        -Gamma distribution definition: https://www.mygreatlearning.com/blog/gamma-distribution/#:~:text=Gamma%20Distribution%20is%20a%20Continuous,times%20between%20events%20are%20relevant. \n",
    "        -Gamma distribution example: https://stats.libretexts.org/Courses/Saint_Mary's_College_Notre_Dame/MATH_345__-_Probability_(Kuter)/4%3A_Continuous_Random_Variables/4.5%3A_Exponential_and_Gamma_Distributions "
   ]
  },
  {
   "cell_type": "markdown",
   "metadata": {},
   "source": [
    "<font color='Blue'>1. Purpose of this assigment:</font>\n",
    "\n",
    "With this project my intention is to create a guide to explain some concepts which will help to understand what is the overall purpose \n",
    "of the numpy.random package in Python and how it can be used more effectively. \n",
    "\n",
    "I will start explaining the package itself and then move on to the next points . In order to explain this the best way possible I will provide with plots and examples. \n",
    "\n",
    " \n",
    "    "
   ]
  },
  {
   "cell_type": "markdown",
   "metadata": {},
   "source": [
    "<font color='Blue'>2.Explain overall use of numpy.random package :</font>\n",
    "\n",
    "NumPy is a package that specialised in dealing with multidimentional arrays ( lists) .\n",
    "The numpy.random package produce random numbers that can be used to sample from different statistical functions. In order to do this this package uses two types of objects which are : \n",
    "\n",
    "-BitGenerators: Used to generate random numbers.\n",
    "\n",
    "-Generators: These objects are used to transform the sequences created by the BitGenerators into squences which are part of a scpecified interval and follow some probability distribution. \n",
    "\n",
    "<font color='Red'>( need to revise this definition when I have full internet)</font>\n",
    "\n"
   ]
  },
  {
   "cell_type": "code",
   "execution_count": 1,
   "metadata": {},
   "outputs": [
    {
     "data": {
      "text/plain": [
       "array([ 0.98575089, -1.85680063,  0.03862829,  0.52114088,  0.91876962,\n",
       "       -1.13028858])"
      ]
     },
     "execution_count": 1,
     "metadata": {},
     "output_type": "execute_result"
    }
   ],
   "source": [
    "#Example of this package use with a simple random data function called 'rand' which returns random values in a given form , \n",
    "#in this case I determined that I needed 6 values: \n",
    "\n",
    "import numpy as np\n",
    "\n",
    "np.random.randn(6)\n",
    "\n",
    "\n"
   ]
  },
  {
   "cell_type": "markdown",
   "metadata": {},
   "source": [
    "<font color='Blue'>3.Explain use of 'Simple random data' and 'Permutation' functions: :</font>\n",
    "\n",
    "Simple random data functions generate arbitrary values, however you are able to add requirements to this generated lists of values. For example 'randint' function returns arbitrary integers from the lowest integer to highest.The optional parameter 'dtype'corresponds to the data type: 'numpy.random.randint(low, high=None, size=None, dtype)'.\n",
    "\n",
    "The 'randint' function uses a discrete uniform distribution, therefore having limited to 6 possible outcomes as in the example below , any of them is equally possible to happen.\n",
    "\n",
    "\n",
    "\n",
    "    \n",
    "   \n",
    "\n",
    "\n",
    "  "
   ]
  },
  {
   "cell_type": "code",
   "execution_count": 10,
   "metadata": {},
   "outputs": [
    {
     "data": {
      "image/png": "[encoded data removed]",
      "text/plain": [
       "<Figure size 432x288 with 1 Axes>"
      ]
     },
     "metadata": {
      "needs_background": "light"
     },
     "output_type": "display_data"
    },
    {
     "name": "stdout",
     "output_type": "stream",
     "text": [
      "[6 1 3 1 4 2]\n"
     ]
    }
   ],
   "source": [
    "#In this example I generate a an array of integers between 0 and 7 exclusive , this is an example of rolling a dice once:\n",
    "\n",
    "\n",
    "np.random.randint (0,7)\n",
    "import matplotlib.pyplot as plt \n",
    "\n",
    "x = np.random.randint (0,7,6)\n",
    "\n",
    "plt.hist(x)\n",
    "\n",
    "plt.show()\n",
    "\n",
    "print(x)\n"
   ]
  },
  {
   "cell_type": "markdown",
   "metadata": {},
   "source": [
    "On the other hand 'Permutation' functions modify a sequence of integers. Let's see the 'numpy.random.shuffle' function as example. \n"
   ]
  },
  {
   "cell_type": "code",
   "execution_count": 3,
   "metadata": {},
   "outputs": [
    {
     "data": {
      "text/plain": [
       "array([ 7,  8, 15,  5, 13,  4,  2,  0, 10, 11,  6,  3,  1,  9, 14, 12])"
      ]
     },
     "execution_count": 3,
     "metadata": {},
     "output_type": "execute_result"
    }
   ],
   "source": [
    "# We add parameter size to the function and see how the method reorganize the order of the items\n",
    "#but this function does not generate a new list. \n",
    "\n",
    "arr = np.arange(16)\n",
    "np.random.shuffle(arr)\n",
    "\n",
    "arr\n",
    "\n"
   ]
  },
  {
   "attachments": {
    "chi-square-formula.jpg": {
     "image/jpeg": "[encoded data removed]"
    }
   },
   "cell_type": "markdown",
   "metadata": {},
   "source": [
    "<font color='Blue'>4. Explain use and purpose of at least 5 'Distribution' functions:</font> \n",
    "\n",
    "In this part of the project I am going to go through what I think are the 5 most interesting 'distribution' functions.\n",
    "\n",
    " 1. numpy.random.chisquare distribution:\n",
    " \n",
    " This distribution is usually used in hypothesis testing. It is one method to show a relationship between two categorical variables , it tells you how much difference between a count you observed ('O' value in formula below) and the counts you would expect ('E' value as seen on formula below) when there is no relationship in the population.  \n",
    "\n",
    " \n",
    "![chi-square-formula.jpg](attachment:chi-square-formula.jpg)\n",
    "\n",
    "\n",
    "Numpy.random.chisquare distribution draw samples from a chi-square distribution. \n",
    "For example: \n",
    "\n",
    "\n"
   ]
  },
  {
   "cell_type": "code",
   "execution_count": 4,
   "metadata": {},
   "outputs": [
    {
     "data": {
      "text/plain": [
       "array([2.17791222e-01, 5.31054900e-01, 3.40932642e+00, 3.89011531e-01,\n",
       "       9.34012075e-01, 3.30853077e-01, 8.25622545e-02, 8.23646049e-05,\n",
       "       9.73905343e-03, 2.77805914e+00, 9.47249634e-01, 2.45355175e-02,\n",
       "       8.80700932e-08, 3.34167301e+00, 1.60778088e-01, 2.89415329e+00,\n",
       "       2.21182785e+00, 2.16133442e-03, 4.27962296e+00, 1.06716541e+00,\n",
       "       5.88812799e+00, 6.70443298e+00, 4.22246734e-02, 4.85557767e-01,\n",
       "       1.18514240e-02, 1.10003061e+00, 4.90679348e+00, 1.22583200e-01,\n",
       "       2.92460249e-02, 2.89460201e-01, 4.88134732e-04, 1.19368178e-01,\n",
       "       1.97413301e-03, 1.60982090e+00, 1.06173770e-03, 2.02512380e+00,\n",
       "       7.12499252e-01, 9.47422193e-01, 4.79173238e-01, 2.47742292e+00])"
      ]
     },
     "execution_count": 4,
     "metadata": {},
     "output_type": "execute_result"
    }
   ],
   "source": [
    "\n",
    "x = np.random.chisquare(1,40)\n",
    "\n",
    "x"
   ]
  },
  {
   "cell_type": "code",
   "execution_count": 5,
   "metadata": {},
   "outputs": [
    {
     "data": {
      "image/png": "[encoded data removed]",
      "text/plain": [
       "<Figure size 432x288 with 1 Axes>"
      ]
     },
     "metadata": {
      "needs_background": "light"
     },
     "output_type": "display_data"
    }
   ],
   "source": [
    "#Plotting this chi-square distribution above: \n",
    "\n",
    "\n",
    "import matplotlib.pyplot as plt \n",
    "\n",
    "plt.hist(x)\n",
    "\n",
    "plt.show()\n",
    "\n",
    " \n",
    "\n"
   ]
  },
  {
   "attachments": {
    "Probability%20density%20function..svg": {
     "image/svg+xml": [
      "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"
     ]
    }
   },
   "cell_type": "markdown",
   "metadata": {},
   "source": [
    "2. numpy.random.exponential distribution:\n",
    "\n",
    "The exponential distribution is usually used to indicate the time elapsed between events. One of the main features of this type of distribution is that it is memoryless, it does not depend on the previous outcome. For example if you are tossing a few coins until they show heads and do not check if there are heads, it would be like we have started all over again. \n",
    "The events ( in this case the coin tossing) are independent. \n",
    "\n",
    "![Probability%20density%20function..svg](attachment:Probability%20density%20function..svg)\n",
    "\n",
    "The numpy.random.exponential function draw samples from an exponential distribution.\n",
    "\n"
   ]
  },
  {
   "cell_type": "code",
   "execution_count": 12,
   "metadata": {},
   "outputs": [
    {
     "data": {
      "image/png": "[encoded data removed]",
      "text/plain": [
       "<Figure size 432x288 with 1 Axes>"
      ]
     },
     "metadata": {
      "needs_background": "light"
     },
     "output_type": "display_data"
    },
    {
     "name": "stdout",
     "output_type": "stream",
     "text": [
      "[2.03405042e+00 9.67178116e+00 2.38164383e-02 1.90748991e+01\n",
      " 7.19684293e-01 8.15135312e-01 1.99247383e-01 2.38777699e+01\n",
      " 5.00361790e+00 8.43278230e-01 4.44202823e+00 8.77410240e+00\n",
      " 2.20242451e+00 2.39011150e+00 1.76423307e+01 1.04906857e+01\n",
      " 7.07932615e+00 5.11270916e+00 7.75195004e-01 4.46092151e+00]\n"
     ]
    }
   ],
   "source": [
    "np.random.exponential(5,20)\n",
    "\n",
    "#Here there is an example plotting the exponential distribution: \n",
    "x = np.random.exponential(5,20)\n",
    "    \n",
    "plt.hist(x)\n",
    "\n",
    "plt.show()\n",
    "\n",
    "print(x)\n"
   ]
  },
  {
   "cell_type": "markdown",
   "metadata": {},
   "source": [
    "3. numpy.random.f:\n",
    "\n",
    "This function produces samples from an F distribution(Fisher distribution).The statistic is a fraction and includes two sets of degrees of freedom, which are one for the numerator (dfnum) and one for the denominator of the fraction (dfden). Both parameters must be higher than 0. To this two parameters we add 'size' if size is none , a single value will be the output. \n",
    "\n"
   ]
  },
  {
   "cell_type": "code",
   "execution_count": 22,
   "metadata": {},
   "outputs": [
    {
     "data": {
      "image/png": "[encoded data removed]",
      "text/plain": [
       "<Figure size 432x288 with 1 Axes>"
      ]
     },
     "metadata": {
      "needs_background": "light"
     },
     "output_type": "display_data"
    }
   ],
   "source": [
    "#Example:\n",
    "\n",
    "dfnum = 6\n",
    "\n",
    "dfden = 11\n",
    "\n",
    "s = np.random.f(dfnum, dfden,19)\n",
    "\n",
    "\n",
    "np.sort(s)[-10]\n",
    "\n",
    "plt.hist(s)\n",
    "\n",
    "plt.show()"
   ]
  },
  {
   "cell_type": "markdown",
   "metadata": {},
   "source": [
    "4. numpy.random.gamma :\n",
    "\n",
    "We use this function in numpy to draw samples from Gamma distribution. Gamma distribution has the parameters: 'shape' (also called 'k') and 'scale'(also known as 'theta') and both must be greater than 0. The parameter size \n",
    "\n",
    "The Gamma distribution is often use to model positive continuous variables. Distributions are often skewed as in this case waiting times between events are relevant. \n",
    "\n"
   ]
  },
  {
   "cell_type": "code",
   "execution_count": 34,
   "metadata": {},
   "outputs": [
    {
     "ename": "NameError",
     "evalue": "name 'sps' is not defined",
     "output_type": "error",
     "traceback": [
      "\u001b[1;31m---------------------------------------------------------------------------\u001b[0m",
      "\u001b[1;31mNameError\u001b[0m                                 Traceback (most recent call last)",
      "\u001b[1;32m<ipython-input-34-c6271994de34>\u001b[0m in \u001b[0;36m<module>\u001b[1;34m\u001b[0m\n\u001b[0;32m      9\u001b[0m \u001b[1;33m\u001b[0m\u001b[0m\n\u001b[0;32m     10\u001b[0m y = bins**(shape-1)*(np.exp(-bins/scale) /  \n\u001b[1;32m---> 11\u001b[1;33m                      (sps.gamma(shape)*scale**shape))\n\u001b[0m\u001b[0;32m     12\u001b[0m \u001b[0mplt\u001b[0m\u001b[1;33m.\u001b[0m\u001b[0mplot\u001b[0m\u001b[1;33m(\u001b[0m\u001b[0mbins\u001b[0m\u001b[1;33m,\u001b[0m \u001b[0my\u001b[0m\u001b[1;33m,\u001b[0m \u001b[0mlinewidth\u001b[0m\u001b[1;33m=\u001b[0m\u001b[1;36m2\u001b[0m\u001b[1;33m,\u001b[0m \u001b[0mcolor\u001b[0m\u001b[1;33m=\u001b[0m\u001b[1;34m'r'\u001b[0m\u001b[1;33m)\u001b[0m\u001b[1;33m\u001b[0m\u001b[1;33m\u001b[0m\u001b[0m\n\u001b[0;32m     13\u001b[0m \u001b[0mplt\u001b[0m\u001b[1;33m.\u001b[0m\u001b[0mshow\u001b[0m\u001b[1;33m(\u001b[0m\u001b[1;33m)\u001b[0m\u001b[1;33m\u001b[0m\u001b[1;33m\u001b[0m\u001b[0m\n",
      "\u001b[1;31mNameError\u001b[0m: name 'sps' is not defined"
     ]
    },
    {
     "data": {
      "image/png": "[encoded data removed]",
      "text/plain": [
       "<Figure size 432x288 with 1 Axes>"
      ]
     },
     "metadata": {
      "needs_background": "light"
     },
     "output_type": "display_data"
    }
   ],
   "source": [
    "#In this example we consider how long we have to wait for 3 accidents at a given intersection. Taking into account the lifetime \n",
    "# of 5 radioactive particules. \n",
    "\n",
    "shape, scale = 0.5,1.5\n",
    "\n",
    "s = np.random.gamma(shape,scale,300)\n",
    "\n",
    "count, bins, ignored = plt.hist(s, 50, density=True)\n",
    "\n",
    "y = bins**(shape-1)*(np.exp(-bins/scale) /  \n",
    "                     (sps.gamma(shape)*scale**shape))\n",
    "plt.plot(bins, y, linewidth=2, color='r')  \n",
    "plt.show()\n",
    "\n"
   ]
  },
  {
   "cell_type": "code",
   "execution_count": null,
   "metadata": {},
   "outputs": [],
   "source": [
    "# Another possible example for Gamma Distribution for this exercise: \n",
    "#\n"
   ]
  },
  {
   "cell_type": "markdown",
   "metadata": {},
   "source": [
    " <font color='Blue'>5. Explain the use of 'Seeds' in generating pseudorandom numbers:</font> \n",
    " \n",
    " Computers are not really able to generate random numbers. There is a mechanism that helps to make computers to generate what it looks like a random number. This is what 'Seeds' are used for. \n",
    "The seed is the position in which we start before generating random numbers, we can guess what random number the computer is going to generate if we know the seed. \n",
    "\n",
    "You can use random generator functions in numpy in order to select your seed. \n",
    "\n",
    "Let's see an example using the function 'Seed':\n",
    "\n",
    "\n",
    "\n",
    "\n",
    "\n",
    "\n",
    "\n",
    "\n",
    "\n",
    "\n",
    "\n",
    "\n",
    "\n",
    "\n",
    "\n",
    "\n",
    "\n",
    "\n",
    "\n",
    "\n",
    "\n",
    "\n",
    "\n",
    "\n",
    "\n",
    "\n",
    "\n",
    "\n",
    "\n",
    "\n",
    "\n",
    "\n",
    "\n",
    "\n",
    "\n",
    "\n",
    "\n",
    "\n",
    "\n",
    "\n",
    "\n",
    "\n",
    "\n",
    "\n",
    "\n",
    "\n",
    "\n",
    "\n",
    "\n",
    "\n",
    "\n",
    "\n",
    "\n",
    "\n",
    "\n",
    "\n",
    "\n",
    "\n",
    "\n",
    "\n",
    "\n",
    "\n",
    "\n",
    "\n",
    "\n",
    "\n",
    "\n",
    "\n",
    "\n",
    "\n",
    "\n",
    "\n",
    "\n",
    "\n",
    "\n",
    "\n",
    "\n",
    "\n",
    "\n",
    "\n",
    "\n",
    "\n",
    "\n",
    "\n",
    "\n",
    "\n",
    "\n",
    "\n",
    "\n",
    "\n",
    "\n",
    "\n",
    "\n",
    "\n",
    "\n",
    "\n",
    "\n",
    "\n",
    "\n",
    "\n",
    "\n",
    "\n",
    "\n",
    "\n",
    "\n",
    "\n",
    "\n",
    "\n",
    "\n",
    "\n",
    "\n",
    "\n",
    "\n",
    "\n",
    "\n",
    "\n",
    "\n",
    "\n",
    "\n",
    "\n",
    "\n",
    "\n",
    "\n",
    "\n",
    "\n",
    "\n",
    "\n",
    "\n",
    "\n",
    "\n",
    "\n",
    "\n",
    "\n",
    "\n",
    "\n",
    "\n",
    "\n",
    "\n",
    "\n",
    "\n",
    "\n",
    "\n",
    "\n",
    "\n",
    "\n",
    "\n",
    "\n",
    "\n",
    "\n",
    "\n",
    "\n",
    "\n",
    "\n",
    "\n",
    "\n",
    "\n",
    "\n",
    "\n",
    "\n",
    "\n",
    "\n",
    "\n",
    "\n",
    "\n",
    "\n",
    "\n",
    "\n",
    "\n",
    "\n",
    "\n",
    "\n",
    "\n",
    "\n",
    "\n",
    "\n",
    "\n",
    "\n",
    "\n",
    "\n",
    "\n",
    "\n",
    "\n",
    "\n",
    "\n",
    "\n",
    "\n",
    "\n",
    "\n",
    "\n",
    "\n",
    "\n",
    "\n",
    "\n",
    "\n",
    "\n",
    "\n",
    "\n",
    "\n",
    "\n"
   ]
  },
  {
   "cell_type": "code",
   "execution_count": null,
   "metadata": {},
   "outputs": [],
   "source": []
  }
 ],
 "metadata": {
  "kernelspec": {
   "display_name": "Python 3",
   "language": "python",
   "name": "python3"
  },
  "language_info": {
   "codemirror_mode": {
    "name": "ipython",
    "version": 3
   },
   "file_extension": ".py",
   "mimetype": "text/x-python",
   "name": "python",
   "nbconvert_exporter": "python",
   "pygments_lexer": "ipython3",
   "version": "3.8.3"
  }
 },
 "nbformat": 4,
 "nbformat_minor": 4
}
